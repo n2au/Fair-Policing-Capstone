{
 "cells": [
  {
   "cell_type": "code",
   "execution_count": 1,
   "metadata": {},
   "outputs": [],
   "source": [
    "import os\n",
    "import sys\n",
    "import json\n",
    "import pandas as pd\n",
    "import numpy as np"
   ]
  },
  {
   "cell_type": "code",
   "execution_count": 2,
   "metadata": {},
   "outputs": [],
   "source": [
    "%load_ext autoreload\n",
    "%autoreload 2"
   ]
  },
  {
   "cell_type": "code",
   "execution_count": 3,
   "metadata": {},
   "outputs": [],
   "source": [
    "TOP_PATH = os.environ['PWD']"
   ]
  },
  {
   "cell_type": "code",
   "execution_count": 4,
   "metadata": {},
   "outputs": [],
   "source": [
    "sys.path.append(TOP_PATH + '/config')\n",
    "sys.path.append(TOP_PATH + '/src')"
   ]
  },
  {
   "cell_type": "code",
   "execution_count": 5,
   "metadata": {},
   "outputs": [],
   "source": [
    "from trends import *\n",
    "import etl\n",
    "from regression import get_data_from_range\n",
    "import eda_viz"
   ]
  },
  {
   "cell_type": "code",
   "execution_count": 6,
   "metadata": {},
   "outputs": [],
   "source": [
    "df_2017_raw = pd.read_csv(TOP_PATH + '/data/raw/STOPS_2017.csv')"
   ]
  },
  {
   "cell_type": "code",
   "execution_count": 7,
   "metadata": {},
   "outputs": [
    {
     "data": {
      "text/html": [
       "<div>\n",
       "<style scoped>\n",
       "    .dataframe tbody tr th:only-of-type {\n",
       "        vertical-align: middle;\n",
       "    }\n",
       "\n",
       "    .dataframe tbody tr th {\n",
       "        vertical-align: top;\n",
       "    }\n",
       "\n",
       "    .dataframe thead th {\n",
       "        text-align: right;\n",
       "    }\n",
       "</style>\n",
       "<table border=\"1\" class=\"dataframe\">\n",
       "  <thead>\n",
       "    <tr style=\"text-align: right;\">\n",
       "      <th></th>\n",
       "      <th>stop_id</th>\n",
       "      <th>stop_cause</th>\n",
       "      <th>service_area</th>\n",
       "      <th>subject_race</th>\n",
       "      <th>subject_sex</th>\n",
       "      <th>subject_age</th>\n",
       "      <th>date_stop</th>\n",
       "      <th>time_stop</th>\n",
       "      <th>arrested</th>\n",
       "      <th>searched</th>\n",
       "      <th>obtained_consent</th>\n",
       "      <th>contraband_found</th>\n",
       "      <th>property_seized</th>\n",
       "    </tr>\n",
       "  </thead>\n",
       "  <tbody>\n",
       "    <tr>\n",
       "      <td>0</td>\n",
       "      <td>1444799</td>\n",
       "      <td>Moving Violation</td>\n",
       "      <td>120</td>\n",
       "      <td>I</td>\n",
       "      <td>M</td>\n",
       "      <td>37</td>\n",
       "      <td>2017-01-01</td>\n",
       "      <td>00:03:00</td>\n",
       "      <td>N</td>\n",
       "      <td>N</td>\n",
       "      <td>NaN</td>\n",
       "      <td>NaN</td>\n",
       "      <td>NaN</td>\n",
       "    </tr>\n",
       "    <tr>\n",
       "      <td>1</td>\n",
       "      <td>1444821</td>\n",
       "      <td>Equipment Violation</td>\n",
       "      <td>520</td>\n",
       "      <td>W</td>\n",
       "      <td>M</td>\n",
       "      <td>22</td>\n",
       "      <td>2017-01-01</td>\n",
       "      <td>00:25:00</td>\n",
       "      <td>N</td>\n",
       "      <td>N</td>\n",
       "      <td>NaN</td>\n",
       "      <td>NaN</td>\n",
       "      <td>NaN</td>\n",
       "    </tr>\n",
       "    <tr>\n",
       "      <td>2</td>\n",
       "      <td>1447102</td>\n",
       "      <td>Moving Violation</td>\n",
       "      <td>520</td>\n",
       "      <td>W</td>\n",
       "      <td>M</td>\n",
       "      <td>29</td>\n",
       "      <td>2017-01-01</td>\n",
       "      <td>01:45:00</td>\n",
       "      <td>N</td>\n",
       "      <td>N</td>\n",
       "      <td>NaN</td>\n",
       "      <td>NaN</td>\n",
       "      <td>NaN</td>\n",
       "    </tr>\n",
       "    <tr>\n",
       "      <td>3</td>\n",
       "      <td>1444801</td>\n",
       "      <td>Equipment Violation</td>\n",
       "      <td>720</td>\n",
       "      <td>H</td>\n",
       "      <td>F</td>\n",
       "      <td>61</td>\n",
       "      <td>2017-01-01</td>\n",
       "      <td>03:10:00</td>\n",
       "      <td>N</td>\n",
       "      <td>N</td>\n",
       "      <td>NaN</td>\n",
       "      <td>NaN</td>\n",
       "      <td>NaN</td>\n",
       "    </tr>\n",
       "    <tr>\n",
       "      <td>4</td>\n",
       "      <td>1444802</td>\n",
       "      <td>Equipment Violation</td>\n",
       "      <td>120</td>\n",
       "      <td>H</td>\n",
       "      <td>M</td>\n",
       "      <td>24</td>\n",
       "      <td>2017-01-01</td>\n",
       "      <td>03:30:00</td>\n",
       "      <td>N</td>\n",
       "      <td>N</td>\n",
       "      <td>NaN</td>\n",
       "      <td>NaN</td>\n",
       "      <td>NaN</td>\n",
       "    </tr>\n",
       "  </tbody>\n",
       "</table>\n",
       "</div>"
      ],
      "text/plain": [
       "   stop_id           stop_cause service_area subject_race subject_sex  \\\n",
       "0  1444799     Moving Violation          120            I           M   \n",
       "1  1444821  Equipment Violation          520            W           M   \n",
       "2  1447102     Moving Violation          520            W           M   \n",
       "3  1444801  Equipment Violation          720            H           F   \n",
       "4  1444802  Equipment Violation          120            H           M   \n",
       "\n",
       "  subject_age   date_stop time_stop arrested searched obtained_consent  \\\n",
       "0          37  2017-01-01  00:03:00        N        N              NaN   \n",
       "1          22  2017-01-01  00:25:00        N        N              NaN   \n",
       "2          29  2017-01-01  01:45:00        N        N              NaN   \n",
       "3          61  2017-01-01  03:10:00        N        N              NaN   \n",
       "4          24  2017-01-01  03:30:00        N        N              NaN   \n",
       "\n",
       "  contraband_found property_seized  \n",
       "0              NaN             NaN  \n",
       "1              NaN             NaN  \n",
       "2              NaN             NaN  \n",
       "3              NaN             NaN  \n",
       "4              NaN             NaN  "
      ]
     },
     "execution_count": 7,
     "metadata": {},
     "output_type": "execute_result"
    }
   ],
   "source": [
    "df_2017_raw.head()"
   ]
  },
  {
   "cell_type": "code",
   "execution_count": 8,
   "metadata": {},
   "outputs": [],
   "source": [
    "df_2017_cleaned = pd.read_csv(TOP_PATH + '/data/cleaned/2017_cleaned.csv')"
   ]
  },
  {
   "cell_type": "markdown",
   "metadata": {},
   "source": [
    "# Make the dataframe that we'd be using to look at DACA"
   ]
  },
  {
   "cell_type": "code",
   "execution_count": 9,
   "metadata": {},
   "outputs": [],
   "source": [
    "df_daca_window = get_data_from_range(('07-05-2017', '11-05-2017'))"
   ]
  },
  {
   "cell_type": "code",
   "execution_count": 10,
   "metadata": {},
   "outputs": [
    {
     "data": {
      "text/html": [
       "<div>\n",
       "<style scoped>\n",
       "    .dataframe tbody tr th:only-of-type {\n",
       "        vertical-align: middle;\n",
       "    }\n",
       "\n",
       "    .dataframe tbody tr th {\n",
       "        vertical-align: top;\n",
       "    }\n",
       "\n",
       "    .dataframe thead th {\n",
       "        text-align: right;\n",
       "    }\n",
       "</style>\n",
       "<table border=\"1\" class=\"dataframe\">\n",
       "  <thead>\n",
       "    <tr style=\"text-align: right;\">\n",
       "      <th></th>\n",
       "      <th>stop_id</th>\n",
       "      <th>stop_cause</th>\n",
       "      <th>service_area</th>\n",
       "      <th>subject_race</th>\n",
       "      <th>subject_sex</th>\n",
       "      <th>subject_age</th>\n",
       "      <th>date_stop</th>\n",
       "      <th>time_stop</th>\n",
       "      <th>arrested</th>\n",
       "      <th>searched</th>\n",
       "      <th>obtained_consent</th>\n",
       "      <th>contraband_found</th>\n",
       "      <th>property_seized</th>\n",
       "    </tr>\n",
       "  </thead>\n",
       "  <tbody>\n",
       "    <tr>\n",
       "      <td>56076</td>\n",
       "      <td>1500296</td>\n",
       "      <td>Equipment Violation</td>\n",
       "      <td>720</td>\n",
       "      <td>Black/African American</td>\n",
       "      <td>Male</td>\n",
       "      <td>30.0</td>\n",
       "      <td>2017-07-05</td>\n",
       "      <td>00:10:00</td>\n",
       "      <td>N</td>\n",
       "      <td>N</td>\n",
       "      <td>NaN</td>\n",
       "      <td>N</td>\n",
       "      <td>N</td>\n",
       "    </tr>\n",
       "    <tr>\n",
       "      <td>56077</td>\n",
       "      <td>1500297</td>\n",
       "      <td>Moving Violation</td>\n",
       "      <td>240</td>\n",
       "      <td>Other</td>\n",
       "      <td>Male</td>\n",
       "      <td>33.0</td>\n",
       "      <td>2017-07-05</td>\n",
       "      <td>00:19:00</td>\n",
       "      <td>N</td>\n",
       "      <td>N</td>\n",
       "      <td>NaN</td>\n",
       "      <td>N</td>\n",
       "      <td>N</td>\n",
       "    </tr>\n",
       "    <tr>\n",
       "      <td>56078</td>\n",
       "      <td>1500346</td>\n",
       "      <td>Equipment Violation</td>\n",
       "      <td>430</td>\n",
       "      <td>White</td>\n",
       "      <td>Male</td>\n",
       "      <td>31.0</td>\n",
       "      <td>2017-07-05</td>\n",
       "      <td>00:40:00</td>\n",
       "      <td>N</td>\n",
       "      <td>N</td>\n",
       "      <td>NaN</td>\n",
       "      <td>N</td>\n",
       "      <td>N</td>\n",
       "    </tr>\n",
       "    <tr>\n",
       "      <td>56079</td>\n",
       "      <td>1500347</td>\n",
       "      <td>Equipment Violation</td>\n",
       "      <td>820</td>\n",
       "      <td>Black/African American</td>\n",
       "      <td>Male</td>\n",
       "      <td>47.0</td>\n",
       "      <td>2017-07-05</td>\n",
       "      <td>00:49:00</td>\n",
       "      <td>Y</td>\n",
       "      <td>N</td>\n",
       "      <td>NaN</td>\n",
       "      <td>N</td>\n",
       "      <td>N</td>\n",
       "    </tr>\n",
       "    <tr>\n",
       "      <td>56080</td>\n",
       "      <td>1500299</td>\n",
       "      <td>Moving Violation</td>\n",
       "      <td>930</td>\n",
       "      <td>White</td>\n",
       "      <td>Female</td>\n",
       "      <td>40.0</td>\n",
       "      <td>2017-07-05</td>\n",
       "      <td>00:57:00</td>\n",
       "      <td>N</td>\n",
       "      <td>N</td>\n",
       "      <td>NaN</td>\n",
       "      <td>N</td>\n",
       "      <td>N</td>\n",
       "    </tr>\n",
       "  </tbody>\n",
       "</table>\n",
       "</div>"
      ],
      "text/plain": [
       "       stop_id           stop_cause service_area            subject_race  \\\n",
       "56076  1500296  Equipment Violation          720  Black/African American   \n",
       "56077  1500297     Moving Violation          240                   Other   \n",
       "56078  1500346  Equipment Violation          430                   White   \n",
       "56079  1500347  Equipment Violation          820  Black/African American   \n",
       "56080  1500299     Moving Violation          930                   White   \n",
       "\n",
       "      subject_sex  subject_age   date_stop time_stop arrested searched  \\\n",
       "56076        Male         30.0  2017-07-05  00:10:00        N        N   \n",
       "56077        Male         33.0  2017-07-05  00:19:00        N        N   \n",
       "56078        Male         31.0  2017-07-05  00:40:00        N        N   \n",
       "56079        Male         47.0  2017-07-05  00:49:00        Y        N   \n",
       "56080      Female         40.0  2017-07-05  00:57:00        N        N   \n",
       "\n",
       "      obtained_consent contraband_found property_seized  \n",
       "56076              NaN                N               N  \n",
       "56077              NaN                N               N  \n",
       "56078              NaN                N               N  \n",
       "56079              NaN                N               N  \n",
       "56080              NaN                N               N  "
      ]
     },
     "execution_count": 10,
     "metadata": {},
     "output_type": "execute_result"
    }
   ],
   "source": [
    "df_daca_window.head()"
   ]
  },
  {
   "cell_type": "code",
   "execution_count": 11,
   "metadata": {},
   "outputs": [],
   "source": [
    "df_daca_used_columns = df_daca_window[['stop_id', 'service_area', 'subject_race', 'date_stop']]"
   ]
  },
  {
   "cell_type": "code",
   "execution_count": 12,
   "metadata": {
    "scrolled": true
   },
   "outputs": [
    {
     "name": "stderr",
     "output_type": "stream",
     "text": [
      "/opt/anaconda3/lib/python3.7/site-packages/ipykernel_launcher.py:1: SettingWithCopyWarning: \n",
      "A value is trying to be set on a copy of a slice from a DataFrame.\n",
      "Try using .loc[row_indexer,col_indexer] = value instead\n",
      "\n",
      "See the caveats in the documentation: http://pandas.pydata.org/pandas-docs/stable/user_guide/indexing.html#returning-a-view-versus-a-copy\n",
      "  \"\"\"Entry point for launching an IPython kernel.\n"
     ]
    }
   ],
   "source": [
    "df_daca_used_columns['month'] = df_daca_used_columns['date_stop'].str.slice(5,7)"
   ]
  },
  {
   "cell_type": "code",
   "execution_count": 13,
   "metadata": {},
   "outputs": [],
   "source": [
    "month_dictionary = {\n",
    "    1 : 'Jan',\n",
    "    2 : 'Feb',\n",
    "    3 : 'Mar',\n",
    "    4 : 'Apr',\n",
    "    5 : 'May',\n",
    "    6 : 'Jun',\n",
    "    7 : 'Jul',\n",
    "    8 : 'Aug',\n",
    "    9 : 'Sep',\n",
    "    10 : 'Oct',\n",
    "    11 : 'Nov',\n",
    "    12 : 'Dec'\n",
    "}"
   ]
  },
  {
   "cell_type": "code",
   "execution_count": 14,
   "metadata": {},
   "outputs": [],
   "source": [
    "df_daca_used_columns = df_daca_used_columns.astype({'month' : int})"
   ]
  },
  {
   "cell_type": "code",
   "execution_count": 15,
   "metadata": {},
   "outputs": [],
   "source": [
    "month_distribution_df = (df_daca_used_columns[['month', 'stop_id']].groupby('month').count() / len(df_daca_used_columns)).rename({'stop_id' : 'stop_percentage'}, axis = 1)"
   ]
  },
  {
   "cell_type": "code",
   "execution_count": 16,
   "metadata": {},
   "outputs": [],
   "source": [
    "month_distribution_df = month_distribution_df.sort_values('month')"
   ]
  },
  {
   "cell_type": "code",
   "execution_count": 17,
   "metadata": {},
   "outputs": [],
   "source": [
    "month_distribution_df.index = month_distribution_df.index.map(month_dictionary)"
   ]
  },
  {
   "cell_type": "code",
   "execution_count": 18,
   "metadata": {},
   "outputs": [
    {
     "data": {
      "image/png": "[encoded data removed]",
      "text/plain": [
       "<Figure size 432x288 with 1 Axes>"
      ]
     },
     "metadata": {
      "needs_background": "light"
     },
     "output_type": "display_data"
    }
   ],
   "source": [
    "ax = month_distribution_df.plot(kind = 'bar')\n",
    "ax.set(title = 'Proportion of Stops in Window by Month',\n",
    "           xlabel = 'Month')\n",
    "fig = ax.figure"
   ]
  },
  {
   "cell_type": "code",
   "execution_count": 19,
   "metadata": {},
   "outputs": [],
   "source": [
    "fig?"
   ]
  },
  {
   "cell_type": "code",
   "execution_count": 20,
   "metadata": {},
   "outputs": [],
   "source": [
    "temp2 = df_daca_used_columns.pivot_table(values = 'stop_id', index = 'month', columns = 'subject_race', aggfunc = 'count')"
   ]
  },
  {
   "cell_type": "code",
   "execution_count": 21,
   "metadata": {},
   "outputs": [],
   "source": [
    "temp2.index = temp2.index.map(month_dictionary)"
   ]
  },
  {
   "cell_type": "code",
   "execution_count": 22,
   "metadata": {},
   "outputs": [
    {
     "data": {
      "image/png": "[encoded data removed]",
      "text/plain": [
       "<Figure size 864x486 with 1 Axes>"
      ]
     },
     "metadata": {
      "needs_background": "light"
     },
     "output_type": "display_data"
    }
   ],
   "source": [
    "ax2 = (temp2.plot.bar(stacked = True, figsize = [12, 6.75]))"
   ]
  },
  {
   "cell_type": "code",
   "execution_count": 23,
   "metadata": {},
   "outputs": [],
   "source": [
    "fig = ax2.figure"
   ]
  },
  {
   "cell_type": "code",
   "execution_count": 24,
   "metadata": {},
   "outputs": [
    {
     "ename": "TypeError",
     "evalue": "savefig() missing 1 required positional argument: 'fname'",
     "output_type": "error",
     "traceback": [
      "\u001b[0;31m---------------------------------------------------------------------------\u001b[0m",
      "\u001b[0;31mTypeError\u001b[0m                                 Traceback (most recent call last)",
      "\u001b[0;32m<ipython-input-24-0bca5d158d1c>\u001b[0m in \u001b[0;36m<module>\u001b[0;34m\u001b[0m\n\u001b[0;32m----> 1\u001b[0;31m \u001b[0mfig\u001b[0m\u001b[0;34m.\u001b[0m\u001b[0msavefig\u001b[0m\u001b[0;34m(\u001b[0m\u001b[0;34m)\u001b[0m\u001b[0;34m\u001b[0m\u001b[0;34m\u001b[0m\u001b[0m\n\u001b[0m",
      "\u001b[0;31mTypeError\u001b[0m: savefig() missing 1 required positional argument: 'fname'"
     ]
    }
   ],
   "source": [
    "fig.savefig()"
   ]
  },
  {
   "cell_type": "code",
   "execution_count": 25,
   "metadata": {},
   "outputs": [
    {
     "data": {
      "text/plain": [
       "<matplotlib.axes._subplots.AxesSubplot at 0x1a283b09d0>"
      ]
     },
     "execution_count": 25,
     "metadata": {},
     "output_type": "execute_result"
    },
    {
     "data": {
      "image/png": "[encoded data removed]",
      "text/plain": [
       "<Figure size 864x486 with 1 Axes>"
      ]
     },
     "metadata": {
      "needs_background": "light"
     },
     "output_type": "display_data"
    }
   ],
   "source": [
    "eda_viz.month_race_count_viz(('07-05-2017', '11-05-2017'), 'DACA', save_fig = True)"
   ]
  },
  {
   "cell_type": "code",
   "execution_count": 30,
   "metadata": {
    "scrolled": false
   },
   "outputs": [
    {
     "name": "stdout",
     "output_type": "stream",
     "text": [
      "Length of window is 8682\n"
     ]
    },
    {
     "data": {
      "text/plain": [
       "<matplotlib.axes._subplots.AxesSubplot at 0x1a294128d0>"
      ]
     },
     "execution_count": 30,
     "metadata": {},
     "output_type": "execute_result"
    },
    {
     "data": {
      "image/png": "[encoded data removed]",
      "text/plain": [
       "<Figure size 864x486 with 1 Axes>"
      ]
     },
     "metadata": {
      "needs_background": "light"
     },
     "output_type": "display_data"
    }
   ],
   "source": [
    "eda_viz.month_race_count_viz(('12-16-2017', '04-16-2018'), 'Black Panther')"
   ]
  },
  {
   "cell_type": "code",
   "execution_count": 29,
   "metadata": {},
   "outputs": [
    {
     "name": "stdout",
     "output_type": "stream",
     "text": [
      "Length of window is 36759\n"
     ]
    },
    {
     "data": {
      "text/plain": [
       "<matplotlib.axes._subplots.AxesSubplot at 0x1a277eeb10>"
      ]
     },
     "execution_count": 29,
     "metadata": {},
     "output_type": "execute_result"
    },
    {
     "data": {
      "image/png": "[encoded data removed]",
      "text/plain": [
       "<Figure size 864x486 with 1 Axes>"
      ]
     },
     "metadata": {
      "needs_background": "light"
     },
     "output_type": "display_data"
    }
   ],
   "source": [
    "eda_viz.month_race_count_viz(('12-16-2016', '04-16-2017'), 'Black Panther')"
   ]
  },
  {
   "cell_type": "code",
   "execution_count": null,
   "metadata": {},
   "outputs": [],
   "source": [
    "temp2 = df_daca_used_columns.pivot_table(values = 'stop_id', index = 'month', columns = 'subject_race', aggfunc = 'count')"
   ]
  },
  {
   "cell_type": "code",
   "execution_count": null,
   "metadata": {},
   "outputs": [],
   "source": [
    "temp2.sort_values('month', ascending = False)"
   ]
  },
  {
   "cell_type": "code",
   "execution_count": null,
   "metadata": {},
   "outputs": [],
   "source": [
    "temp2.index = temp2.index.map(month_dictionary)\n",
    "temp2"
   ]
  },
  {
   "cell_type": "code",
   "execution_count": 75,
   "metadata": {},
   "outputs": [],
   "source": [
    "df_2017 = pd.read_csv(TOP_PATH + '/data/raw/STOPS_2017.csv')"
   ]
  },
  {
   "cell_type": "code",
   "execution_count": 76,
   "metadata": {},
   "outputs": [],
   "source": [
    "temp = df_2017[[pd.to_datetime(x) >= pd.to_datetime('12-16-2017') and pd.to_datetime(x) <= pd.to_datetime('04-16-2018') for x in df_2017['date_stop']]]"
   ]
  },
  {
   "cell_type": "code",
   "execution_count": 77,
   "metadata": {
    "scrolled": true
   },
   "outputs": [
    {
     "data": {
      "text/plain": [
       "8682"
      ]
     },
     "execution_count": 77,
     "metadata": {},
     "output_type": "execute_result"
    }
   ],
   "source": [
    "len(temp)"
   ]
  },
  {
   "cell_type": "code",
   "execution_count": 78,
   "metadata": {},
   "outputs": [],
   "source": [
    "df_2016 = pd.read_csv(TOP_PATH + '/data/raw/STOPS_2016.csv')"
   ]
  },
  {
   "cell_type": "code",
   "execution_count": 82,
   "metadata": {
    "scrolled": true
   },
   "outputs": [
    {
     "data": {
      "text/plain": [
       "5742.333333333333"
      ]
     },
     "execution_count": 82,
     "metadata": {},
     "output_type": "execute_result"
    }
   ],
   "source": [
    "len(df_2017) / 18"
   ]
  },
  {
   "cell_type": "code",
   "execution_count": 91,
   "metadata": {},
   "outputs": [],
   "source": [
    "df_2017['month'] = df_2017.date_stop.str.slice(5,7)\n",
    "df_2017['year'] = df_2017.date_stop.str.slice(0,4)"
   ]
  },
  {
   "cell_type": "code",
   "execution_count": 92,
   "metadata": {
    "scrolled": false
   },
   "outputs": [
    {
     "data": {
      "text/html": [
       "<div>\n",
       "<style scoped>\n",
       "    .dataframe tbody tr th:only-of-type {\n",
       "        vertical-align: middle;\n",
       "    }\n",
       "\n",
       "    .dataframe tbody tr th {\n",
       "        vertical-align: top;\n",
       "    }\n",
       "\n",
       "    .dataframe thead th {\n",
       "        text-align: right;\n",
       "    }\n",
       "</style>\n",
       "<table border=\"1\" class=\"dataframe\">\n",
       "  <thead>\n",
       "    <tr style=\"text-align: right;\">\n",
       "      <th></th>\n",
       "      <th></th>\n",
       "      <th>stop_id</th>\n",
       "    </tr>\n",
       "    <tr>\n",
       "      <th>year</th>\n",
       "      <th>month</th>\n",
       "      <th></th>\n",
       "    </tr>\n",
       "  </thead>\n",
       "  <tbody>\n",
       "    <tr>\n",
       "      <td rowspan=\"12\" valign=\"top\">2017</td>\n",
       "      <td>01</td>\n",
       "      <td>8638</td>\n",
       "    </tr>\n",
       "    <tr>\n",
       "      <td>02</td>\n",
       "      <td>9397</td>\n",
       "    </tr>\n",
       "    <tr>\n",
       "      <td>03</td>\n",
       "      <td>10327</td>\n",
       "    </tr>\n",
       "    <tr>\n",
       "      <td>04</td>\n",
       "      <td>9076</td>\n",
       "    </tr>\n",
       "    <tr>\n",
       "      <td>05</td>\n",
       "      <td>8659</td>\n",
       "    </tr>\n",
       "    <tr>\n",
       "      <td>06</td>\n",
       "      <td>9051</td>\n",
       "    </tr>\n",
       "    <tr>\n",
       "      <td>07</td>\n",
       "      <td>7761</td>\n",
       "    </tr>\n",
       "    <tr>\n",
       "      <td>08</td>\n",
       "      <td>8928</td>\n",
       "    </tr>\n",
       "    <tr>\n",
       "      <td>09</td>\n",
       "      <td>8479</td>\n",
       "    </tr>\n",
       "    <tr>\n",
       "      <td>10</td>\n",
       "      <td>5618</td>\n",
       "    </tr>\n",
       "    <tr>\n",
       "      <td>11</td>\n",
       "      <td>2503</td>\n",
       "    </tr>\n",
       "    <tr>\n",
       "      <td>12</td>\n",
       "      <td>2439</td>\n",
       "    </tr>\n",
       "    <tr>\n",
       "      <td rowspan=\"6\" valign=\"top\">2018</td>\n",
       "      <td>01</td>\n",
       "      <td>2922</td>\n",
       "    </tr>\n",
       "    <tr>\n",
       "      <td>02</td>\n",
       "      <td>1929</td>\n",
       "    </tr>\n",
       "    <tr>\n",
       "      <td>03</td>\n",
       "      <td>1900</td>\n",
       "    </tr>\n",
       "    <tr>\n",
       "      <td>04</td>\n",
       "      <td>2040</td>\n",
       "    </tr>\n",
       "    <tr>\n",
       "      <td>05</td>\n",
       "      <td>2111</td>\n",
       "    </tr>\n",
       "    <tr>\n",
       "      <td>06</td>\n",
       "      <td>1584</td>\n",
       "    </tr>\n",
       "  </tbody>\n",
       "</table>\n",
       "</div>"
      ],
      "text/plain": [
       "            stop_id\n",
       "year month         \n",
       "2017 01        8638\n",
       "     02        9397\n",
       "     03       10327\n",
       "     04        9076\n",
       "     05        8659\n",
       "     06        9051\n",
       "     07        7761\n",
       "     08        8928\n",
       "     09        8479\n",
       "     10        5618\n",
       "     11        2503\n",
       "     12        2439\n",
       "2018 01        2922\n",
       "     02        1929\n",
       "     03        1900\n",
       "     04        2040\n",
       "     05        2111\n",
       "     06        1584"
      ]
     },
     "execution_count": 92,
     "metadata": {},
     "output_type": "execute_result"
    }
   ],
   "source": [
    "df_2017[['stop_id', 'month', 'year']].groupby(['year', 'month']).count()"
   ]
  },
  {
   "cell_type": "code",
   "execution_count": 93,
   "metadata": {},
   "outputs": [],
   "source": [
    "df_2016['month'] = df_2016.date_stop.str.slice(5,7)\n",
    "df_2016['year'] = df_2016.date_stop.str.slice(0,4)"
   ]
  },
  {
   "cell_type": "code",
   "execution_count": 94,
   "metadata": {},
   "outputs": [
    {
     "data": {
      "text/html": [
       "<div>\n",
       "<style scoped>\n",
       "    .dataframe tbody tr th:only-of-type {\n",
       "        vertical-align: middle;\n",
       "    }\n",
       "\n",
       "    .dataframe tbody tr th {\n",
       "        vertical-align: top;\n",
       "    }\n",
       "\n",
       "    .dataframe thead th {\n",
       "        text-align: right;\n",
       "    }\n",
       "</style>\n",
       "<table border=\"1\" class=\"dataframe\">\n",
       "  <thead>\n",
       "    <tr style=\"text-align: right;\">\n",
       "      <th></th>\n",
       "      <th></th>\n",
       "      <th>stop_id</th>\n",
       "    </tr>\n",
       "    <tr>\n",
       "      <th>year</th>\n",
       "      <th>month</th>\n",
       "      <th></th>\n",
       "    </tr>\n",
       "  </thead>\n",
       "  <tbody>\n",
       "    <tr>\n",
       "      <td rowspan=\"12\" valign=\"top\">2016</td>\n",
       "      <td>01</td>\n",
       "      <td>9202</td>\n",
       "    </tr>\n",
       "    <tr>\n",
       "      <td>02</td>\n",
       "      <td>10060</td>\n",
       "    </tr>\n",
       "    <tr>\n",
       "      <td>03</td>\n",
       "      <td>9370</td>\n",
       "    </tr>\n",
       "    <tr>\n",
       "      <td>04</td>\n",
       "      <td>9046</td>\n",
       "    </tr>\n",
       "    <tr>\n",
       "      <td>05</td>\n",
       "      <td>8953</td>\n",
       "    </tr>\n",
       "    <tr>\n",
       "      <td>06</td>\n",
       "      <td>8798</td>\n",
       "    </tr>\n",
       "    <tr>\n",
       "      <td>07</td>\n",
       "      <td>7665</td>\n",
       "    </tr>\n",
       "    <tr>\n",
       "      <td>08</td>\n",
       "      <td>7843</td>\n",
       "    </tr>\n",
       "    <tr>\n",
       "      <td>09</td>\n",
       "      <td>7677</td>\n",
       "    </tr>\n",
       "    <tr>\n",
       "      <td>10</td>\n",
       "      <td>8486</td>\n",
       "    </tr>\n",
       "    <tr>\n",
       "      <td>11</td>\n",
       "      <td>8328</td>\n",
       "    </tr>\n",
       "    <tr>\n",
       "      <td>12</td>\n",
       "      <td>7623</td>\n",
       "    </tr>\n",
       "  </tbody>\n",
       "</table>\n",
       "</div>"
      ],
      "text/plain": [
       "            stop_id\n",
       "year month         \n",
       "2016 01        9202\n",
       "     02       10060\n",
       "     03        9370\n",
       "     04        9046\n",
       "     05        8953\n",
       "     06        8798\n",
       "     07        7665\n",
       "     08        7843\n",
       "     09        7677\n",
       "     10        8486\n",
       "     11        8328\n",
       "     12        7623"
      ]
     },
     "execution_count": 94,
     "metadata": {},
     "output_type": "execute_result"
    }
   ],
   "source": [
    "df_2016[['stop_id', 'month', 'year']].groupby(['year', 'month']).count()"
   ]
  },
  {
   "cell_type": "code",
   "execution_count": 95,
   "metadata": {},
   "outputs": [],
   "source": [
    "df_2018_2019 = pd.read_csv(TOP_PATH + '/data/raw/STOPS_2018-2019.csv')"
   ]
  },
  {
   "cell_type": "code",
   "execution_count": 97,
   "metadata": {},
   "outputs": [],
   "source": [
    "df_2018_2019['month'] = df_2018_2019.date_stop.str.slice(5,7)\n",
    "df_2018_2019['year'] = df_2018_2019.date_stop.str.slice(0,4)"
   ]
  },
  {
   "cell_type": "code",
   "execution_count": 98,
   "metadata": {},
   "outputs": [
    {
     "data": {
      "text/html": [
       "<div>\n",
       "<style scoped>\n",
       "    .dataframe tbody tr th:only-of-type {\n",
       "        vertical-align: middle;\n",
       "    }\n",
       "\n",
       "    .dataframe tbody tr th {\n",
       "        vertical-align: top;\n",
       "    }\n",
       "\n",
       "    .dataframe thead th {\n",
       "        text-align: right;\n",
       "    }\n",
       "</style>\n",
       "<table border=\"1\" class=\"dataframe\">\n",
       "  <thead>\n",
       "    <tr style=\"text-align: right;\">\n",
       "      <th></th>\n",
       "      <th></th>\n",
       "      <th>stop_id</th>\n",
       "    </tr>\n",
       "    <tr>\n",
       "      <th>year</th>\n",
       "      <th>month</th>\n",
       "      <th></th>\n",
       "    </tr>\n",
       "  </thead>\n",
       "  <tbody>\n",
       "    <tr>\n",
       "      <td rowspan=\"6\" valign=\"top\">2018</td>\n",
       "      <td>07</td>\n",
       "      <td>15522</td>\n",
       "    </tr>\n",
       "    <tr>\n",
       "      <td>08</td>\n",
       "      <td>14898</td>\n",
       "    </tr>\n",
       "    <tr>\n",
       "      <td>09</td>\n",
       "      <td>12453</td>\n",
       "    </tr>\n",
       "    <tr>\n",
       "      <td>10</td>\n",
       "      <td>12871</td>\n",
       "    </tr>\n",
       "    <tr>\n",
       "      <td>11</td>\n",
       "      <td>12204</td>\n",
       "    </tr>\n",
       "    <tr>\n",
       "      <td>12</td>\n",
       "      <td>11977</td>\n",
       "    </tr>\n",
       "    <tr>\n",
       "      <td rowspan=\"12\" valign=\"top\">2019</td>\n",
       "      <td>01</td>\n",
       "      <td>12755</td>\n",
       "    </tr>\n",
       "    <tr>\n",
       "      <td>02</td>\n",
       "      <td>11225</td>\n",
       "    </tr>\n",
       "    <tr>\n",
       "      <td>03</td>\n",
       "      <td>14359</td>\n",
       "    </tr>\n",
       "    <tr>\n",
       "      <td>04</td>\n",
       "      <td>13931</td>\n",
       "    </tr>\n",
       "    <tr>\n",
       "      <td>05</td>\n",
       "      <td>13975</td>\n",
       "    </tr>\n",
       "    <tr>\n",
       "      <td>06</td>\n",
       "      <td>12587</td>\n",
       "    </tr>\n",
       "    <tr>\n",
       "      <td>07</td>\n",
       "      <td>14112</td>\n",
       "    </tr>\n",
       "    <tr>\n",
       "      <td>08</td>\n",
       "      <td>14683</td>\n",
       "    </tr>\n",
       "    <tr>\n",
       "      <td>09</td>\n",
       "      <td>13694</td>\n",
       "    </tr>\n",
       "    <tr>\n",
       "      <td>10</td>\n",
       "      <td>14847</td>\n",
       "    </tr>\n",
       "    <tr>\n",
       "      <td>11</td>\n",
       "      <td>12876</td>\n",
       "    </tr>\n",
       "    <tr>\n",
       "      <td>12</td>\n",
       "      <td>12321</td>\n",
       "    </tr>\n",
       "  </tbody>\n",
       "</table>\n",
       "</div>"
      ],
      "text/plain": [
       "            stop_id\n",
       "year month         \n",
       "2018 07       15522\n",
       "     08       14898\n",
       "     09       12453\n",
       "     10       12871\n",
       "     11       12204\n",
       "     12       11977\n",
       "2019 01       12755\n",
       "     02       11225\n",
       "     03       14359\n",
       "     04       13931\n",
       "     05       13975\n",
       "     06       12587\n",
       "     07       14112\n",
       "     08       14683\n",
       "     09       13694\n",
       "     10       14847\n",
       "     11       12876\n",
       "     12       12321"
      ]
     },
     "execution_count": 98,
     "metadata": {},
     "output_type": "execute_result"
    }
   ],
   "source": [
    "df_2018_2019[['stop_id', 'month', 'year']].groupby(['year', 'month']).count()"
   ]
  },
  {
   "cell_type": "code",
   "execution_count": 83,
   "metadata": {},
   "outputs": [
    {
     "data": {
      "text/plain": [
       "8587.583333333334"
      ]
     },
     "execution_count": 83,
     "metadata": {},
     "output_type": "execute_result"
    }
   ],
   "source": [
    "len(df_2016) / 12"
   ]
  },
  {
   "cell_type": "code",
   "execution_count": null,
   "metadata": {},
   "outputs": [],
   "source": [
    "t = "
   ]
  },
  {
   "cell_type": "code",
   "execution_count": 70,
   "metadata": {
    "scrolled": false
   },
   "outputs": [
    {
     "data": {
      "text/html": [
       "<div>\n",
       "<style scoped>\n",
       "    .dataframe tbody tr th:only-of-type {\n",
       "        vertical-align: middle;\n",
       "    }\n",
       "\n",
       "    .dataframe tbody tr th {\n",
       "        vertical-align: top;\n",
       "    }\n",
       "\n",
       "    .dataframe thead th {\n",
       "        text-align: right;\n",
       "    }\n",
       "</style>\n",
       "<table border=\"1\" class=\"dataframe\">\n",
       "  <thead>\n",
       "    <tr style=\"text-align: right;\">\n",
       "      <th></th>\n",
       "      <th>stop_id</th>\n",
       "      <th>stop_cause</th>\n",
       "      <th>service_area</th>\n",
       "      <th>subject_race</th>\n",
       "      <th>subject_sex</th>\n",
       "      <th>subject_age</th>\n",
       "      <th>date_stop</th>\n",
       "      <th>time_stop</th>\n",
       "      <th>arrested</th>\n",
       "      <th>searched</th>\n",
       "      <th>obtained_consent</th>\n",
       "      <th>contraband_found</th>\n",
       "      <th>property_seized</th>\n",
       "    </tr>\n",
       "  </thead>\n",
       "  <tbody>\n",
       "    <tr>\n",
       "      <td>89900</td>\n",
       "      <td>1606060</td>\n",
       "      <td>Moving Violation</td>\n",
       "      <td>520</td>\n",
       "      <td>NaN</td>\n",
       "      <td>NaN</td>\n",
       "      <td>NaN</td>\n",
       "      <td>2017-12-17</td>\n",
       "      <td>00:01:00</td>\n",
       "      <td>N</td>\n",
       "      <td>N</td>\n",
       "      <td>NaN</td>\n",
       "      <td>N</td>\n",
       "      <td>N</td>\n",
       "    </tr>\n",
       "    <tr>\n",
       "      <td>89901</td>\n",
       "      <td>1606896</td>\n",
       "      <td>Moving Violation</td>\n",
       "      <td>120</td>\n",
       "      <td>Hispanic/Latino/a</td>\n",
       "      <td>Female</td>\n",
       "      <td>52.0</td>\n",
       "      <td>2017-12-17</td>\n",
       "      <td>03:25:00</td>\n",
       "      <td>N</td>\n",
       "      <td>N</td>\n",
       "      <td>NaN</td>\n",
       "      <td>N</td>\n",
       "      <td>N</td>\n",
       "    </tr>\n",
       "    <tr>\n",
       "      <td>89902</td>\n",
       "      <td>1606889</td>\n",
       "      <td>Moving Violation</td>\n",
       "      <td>120</td>\n",
       "      <td>White</td>\n",
       "      <td>Female</td>\n",
       "      <td>20.0</td>\n",
       "      <td>2017-12-17</td>\n",
       "      <td>08:20:00</td>\n",
       "      <td>N</td>\n",
       "      <td>N</td>\n",
       "      <td>NaN</td>\n",
       "      <td>N</td>\n",
       "      <td>N</td>\n",
       "    </tr>\n",
       "    <tr>\n",
       "      <td>89903</td>\n",
       "      <td>1606888</td>\n",
       "      <td>Moving Violation</td>\n",
       "      <td>120</td>\n",
       "      <td>White</td>\n",
       "      <td>Female</td>\n",
       "      <td>30.0</td>\n",
       "      <td>2017-12-17</td>\n",
       "      <td>08:32:00</td>\n",
       "      <td>N</td>\n",
       "      <td>N</td>\n",
       "      <td>NaN</td>\n",
       "      <td>N</td>\n",
       "      <td>N</td>\n",
       "    </tr>\n",
       "    <tr>\n",
       "      <td>89904</td>\n",
       "      <td>1606886</td>\n",
       "      <td>Moving Violation</td>\n",
       "      <td>120</td>\n",
       "      <td>White</td>\n",
       "      <td>Female</td>\n",
       "      <td>71.0</td>\n",
       "      <td>2017-12-17</td>\n",
       "      <td>08:45:00</td>\n",
       "      <td>N</td>\n",
       "      <td>N</td>\n",
       "      <td>NaN</td>\n",
       "      <td>N</td>\n",
       "      <td>N</td>\n",
       "    </tr>\n",
       "    <tr>\n",
       "      <td>...</td>\n",
       "      <td>...</td>\n",
       "      <td>...</td>\n",
       "      <td>...</td>\n",
       "      <td>...</td>\n",
       "      <td>...</td>\n",
       "      <td>...</td>\n",
       "      <td>...</td>\n",
       "      <td>...</td>\n",
       "      <td>...</td>\n",
       "      <td>...</td>\n",
       "      <td>...</td>\n",
       "      <td>...</td>\n",
       "      <td>...</td>\n",
       "    </tr>\n",
       "    <tr>\n",
       "      <td>98577</td>\n",
       "      <td>1615285</td>\n",
       "      <td>Equipment Violation</td>\n",
       "      <td>810</td>\n",
       "      <td>Other</td>\n",
       "      <td>Female</td>\n",
       "      <td>19.0</td>\n",
       "      <td>2018-04-16</td>\n",
       "      <td>12:56:00</td>\n",
       "      <td>N</td>\n",
       "      <td>N</td>\n",
       "      <td>NaN</td>\n",
       "      <td>N</td>\n",
       "      <td>N</td>\n",
       "    </tr>\n",
       "    <tr>\n",
       "      <td>98578</td>\n",
       "      <td>1615283</td>\n",
       "      <td>Moving Violation</td>\n",
       "      <td>810</td>\n",
       "      <td>Other</td>\n",
       "      <td>Female</td>\n",
       "      <td>43.0</td>\n",
       "      <td>2018-04-16</td>\n",
       "      <td>13:10:00</td>\n",
       "      <td>N</td>\n",
       "      <td>N</td>\n",
       "      <td>NaN</td>\n",
       "      <td>N</td>\n",
       "      <td>N</td>\n",
       "    </tr>\n",
       "    <tr>\n",
       "      <td>98579</td>\n",
       "      <td>1615284</td>\n",
       "      <td>Moving Violation</td>\n",
       "      <td>810</td>\n",
       "      <td>Other</td>\n",
       "      <td>Female</td>\n",
       "      <td>46.0</td>\n",
       "      <td>2018-04-16</td>\n",
       "      <td>13:13:00</td>\n",
       "      <td>N</td>\n",
       "      <td>N</td>\n",
       "      <td>NaN</td>\n",
       "      <td>N</td>\n",
       "      <td>N</td>\n",
       "    </tr>\n",
       "    <tr>\n",
       "      <td>98580</td>\n",
       "      <td>1615291</td>\n",
       "      <td>Equipment Violation</td>\n",
       "      <td>810</td>\n",
       "      <td>Other</td>\n",
       "      <td>Male</td>\n",
       "      <td>32.0</td>\n",
       "      <td>2018-04-16</td>\n",
       "      <td>13:24:00</td>\n",
       "      <td>N</td>\n",
       "      <td>N</td>\n",
       "      <td>NaN</td>\n",
       "      <td>N</td>\n",
       "      <td>N</td>\n",
       "    </tr>\n",
       "    <tr>\n",
       "      <td>98581</td>\n",
       "      <td>1615292</td>\n",
       "      <td>Moving Violation</td>\n",
       "      <td>810</td>\n",
       "      <td>Other</td>\n",
       "      <td>Male</td>\n",
       "      <td>37.0</td>\n",
       "      <td>2018-04-16</td>\n",
       "      <td>13:30:00</td>\n",
       "      <td>N</td>\n",
       "      <td>N</td>\n",
       "      <td>NaN</td>\n",
       "      <td>N</td>\n",
       "      <td>N</td>\n",
       "    </tr>\n",
       "  </tbody>\n",
       "</table>\n",
       "<p>8682 rows × 13 columns</p>\n",
       "</div>"
      ],
      "text/plain": [
       "       stop_id           stop_cause service_area       subject_race  \\\n",
       "89900  1606060     Moving Violation          520                NaN   \n",
       "89901  1606896     Moving Violation          120  Hispanic/Latino/a   \n",
       "89902  1606889     Moving Violation          120              White   \n",
       "89903  1606888     Moving Violation          120              White   \n",
       "89904  1606886     Moving Violation          120              White   \n",
       "...        ...                  ...          ...                ...   \n",
       "98577  1615285  Equipment Violation          810              Other   \n",
       "98578  1615283     Moving Violation          810              Other   \n",
       "98579  1615284     Moving Violation          810              Other   \n",
       "98580  1615291  Equipment Violation          810              Other   \n",
       "98581  1615292     Moving Violation          810              Other   \n",
       "\n",
       "      subject_sex  subject_age   date_stop time_stop arrested searched  \\\n",
       "89900         NaN          NaN  2017-12-17  00:01:00        N        N   \n",
       "89901      Female         52.0  2017-12-17  03:25:00        N        N   \n",
       "89902      Female         20.0  2017-12-17  08:20:00        N        N   \n",
       "89903      Female         30.0  2017-12-17  08:32:00        N        N   \n",
       "89904      Female         71.0  2017-12-17  08:45:00        N        N   \n",
       "...           ...          ...         ...       ...      ...      ...   \n",
       "98577      Female         19.0  2018-04-16  12:56:00        N        N   \n",
       "98578      Female         43.0  2018-04-16  13:10:00        N        N   \n",
       "98579      Female         46.0  2018-04-16  13:13:00        N        N   \n",
       "98580        Male         32.0  2018-04-16  13:24:00        N        N   \n",
       "98581        Male         37.0  2018-04-16  13:30:00        N        N   \n",
       "\n",
       "      obtained_consent contraband_found property_seized  \n",
       "89900              NaN                N               N  \n",
       "89901              NaN                N               N  \n",
       "89902              NaN                N               N  \n",
       "89903              NaN                N               N  \n",
       "89904              NaN                N               N  \n",
       "...                ...              ...             ...  \n",
       "98577              NaN                N               N  \n",
       "98578              NaN                N               N  \n",
       "98579              NaN                N               N  \n",
       "98580              NaN                N               N  \n",
       "98581              NaN                N               N  \n",
       "\n",
       "[8682 rows x 13 columns]"
      ]
     },
     "execution_count": 70,
     "metadata": {},
     "output_type": "execute_result"
    }
   ],
   "source": [
    "temp"
   ]
  },
  {
   "cell_type": "code",
   "execution_count": 71,
   "metadata": {},
   "outputs": [
    {
     "data": {
      "text/html": [
       "<div>\n",
       "<style scoped>\n",
       "    .dataframe tbody tr th:only-of-type {\n",
       "        vertical-align: middle;\n",
       "    }\n",
       "\n",
       "    .dataframe tbody tr th {\n",
       "        vertical-align: top;\n",
       "    }\n",
       "\n",
       "    .dataframe thead th {\n",
       "        text-align: right;\n",
       "    }\n",
       "</style>\n",
       "<table border=\"1\" class=\"dataframe\">\n",
       "  <thead>\n",
       "    <tr style=\"text-align: right;\">\n",
       "      <th></th>\n",
       "      <th>stop_id</th>\n",
       "      <th>stop_cause</th>\n",
       "      <th>service_area</th>\n",
       "      <th>subject_race</th>\n",
       "      <th>subject_sex</th>\n",
       "      <th>subject_age</th>\n",
       "      <th>date_stop</th>\n",
       "      <th>time_stop</th>\n",
       "      <th>arrested</th>\n",
       "      <th>searched</th>\n",
       "      <th>obtained_consent</th>\n",
       "      <th>contraband_found</th>\n",
       "      <th>property_seized</th>\n",
       "    </tr>\n",
       "  </thead>\n",
       "  <tbody>\n",
       "    <tr>\n",
       "      <td>99489</td>\n",
       "      <td>1440927</td>\n",
       "      <td>Equipment Violation</td>\n",
       "      <td>510</td>\n",
       "      <td>Hispanic/Latino/a</td>\n",
       "      <td>Male</td>\n",
       "      <td>25.0</td>\n",
       "      <td>2016-12-16</td>\n",
       "      <td>0:20</td>\n",
       "      <td>N</td>\n",
       "      <td>N</td>\n",
       "      <td>NaN</td>\n",
       "      <td>N</td>\n",
       "      <td>N</td>\n",
       "    </tr>\n",
       "    <tr>\n",
       "      <td>99490</td>\n",
       "      <td>1440949</td>\n",
       "      <td>Equipment Violation</td>\n",
       "      <td>510</td>\n",
       "      <td>White</td>\n",
       "      <td>Female</td>\n",
       "      <td>32.0</td>\n",
       "      <td>2016-12-16</td>\n",
       "      <td>0:20</td>\n",
       "      <td>N</td>\n",
       "      <td>Y</td>\n",
       "      <td>NaN</td>\n",
       "      <td>N</td>\n",
       "      <td>N</td>\n",
       "    </tr>\n",
       "    <tr>\n",
       "      <td>99491</td>\n",
       "      <td>1440929</td>\n",
       "      <td>Equipment Violation</td>\n",
       "      <td>520</td>\n",
       "      <td>Black/African American</td>\n",
       "      <td>Male</td>\n",
       "      <td>36.0</td>\n",
       "      <td>2016-12-16</td>\n",
       "      <td>0:30</td>\n",
       "      <td>N</td>\n",
       "      <td>N</td>\n",
       "      <td>NaN</td>\n",
       "      <td>N</td>\n",
       "      <td>N</td>\n",
       "    </tr>\n",
       "    <tr>\n",
       "      <td>99492</td>\n",
       "      <td>1440951</td>\n",
       "      <td>Moving Violation</td>\n",
       "      <td>510</td>\n",
       "      <td>Black/African American</td>\n",
       "      <td>Male</td>\n",
       "      <td>56.0</td>\n",
       "      <td>2016-12-16</td>\n",
       "      <td>0:35</td>\n",
       "      <td>N</td>\n",
       "      <td>N</td>\n",
       "      <td>NaN</td>\n",
       "      <td>N</td>\n",
       "      <td>N</td>\n",
       "    </tr>\n",
       "    <tr>\n",
       "      <td>99493</td>\n",
       "      <td>1440952</td>\n",
       "      <td>Equipment Violation</td>\n",
       "      <td>510</td>\n",
       "      <td>Hispanic/Latino/a</td>\n",
       "      <td>Male</td>\n",
       "      <td>53.0</td>\n",
       "      <td>2016-12-16</td>\n",
       "      <td>0:45</td>\n",
       "      <td>N</td>\n",
       "      <td>N</td>\n",
       "      <td>NaN</td>\n",
       "      <td>N</td>\n",
       "      <td>N</td>\n",
       "    </tr>\n",
       "    <tr>\n",
       "      <td>...</td>\n",
       "      <td>...</td>\n",
       "      <td>...</td>\n",
       "      <td>...</td>\n",
       "      <td>...</td>\n",
       "      <td>...</td>\n",
       "      <td>...</td>\n",
       "      <td>...</td>\n",
       "      <td>...</td>\n",
       "      <td>...</td>\n",
       "      <td>...</td>\n",
       "      <td>...</td>\n",
       "      <td>...</td>\n",
       "      <td>...</td>\n",
       "    </tr>\n",
       "    <tr>\n",
       "      <td>33357</td>\n",
       "      <td>1478076</td>\n",
       "      <td>Equipment Violation</td>\n",
       "      <td>110</td>\n",
       "      <td>White</td>\n",
       "      <td>Male</td>\n",
       "      <td>23.0</td>\n",
       "      <td>2017-04-16</td>\n",
       "      <td>23:20:00</td>\n",
       "      <td>N</td>\n",
       "      <td>N</td>\n",
       "      <td>NaN</td>\n",
       "      <td>N</td>\n",
       "      <td>N</td>\n",
       "    </tr>\n",
       "    <tr>\n",
       "      <td>33358</td>\n",
       "      <td>1478077</td>\n",
       "      <td>Equipment Violation</td>\n",
       "      <td>620</td>\n",
       "      <td>Black/African American</td>\n",
       "      <td>Female</td>\n",
       "      <td>55.0</td>\n",
       "      <td>2017-04-16</td>\n",
       "      <td>23:30:00</td>\n",
       "      <td>N</td>\n",
       "      <td>N</td>\n",
       "      <td>NaN</td>\n",
       "      <td>N</td>\n",
       "      <td>N</td>\n",
       "    </tr>\n",
       "    <tr>\n",
       "      <td>33359</td>\n",
       "      <td>1478080</td>\n",
       "      <td>Equipment Violation</td>\n",
       "      <td>440</td>\n",
       "      <td>White</td>\n",
       "      <td>Male</td>\n",
       "      <td>24.0</td>\n",
       "      <td>2017-04-16</td>\n",
       "      <td>23:46:00</td>\n",
       "      <td>N</td>\n",
       "      <td>N</td>\n",
       "      <td>NaN</td>\n",
       "      <td>N</td>\n",
       "      <td>N</td>\n",
       "    </tr>\n",
       "    <tr>\n",
       "      <td>33360</td>\n",
       "      <td>1478100</td>\n",
       "      <td>Equipment Violation</td>\n",
       "      <td>440</td>\n",
       "      <td>Hispanic/Latino/a</td>\n",
       "      <td>Male</td>\n",
       "      <td>47.0</td>\n",
       "      <td>2017-04-16</td>\n",
       "      <td>23:53:00</td>\n",
       "      <td>Y</td>\n",
       "      <td>Y</td>\n",
       "      <td>N</td>\n",
       "      <td>N</td>\n",
       "      <td>N</td>\n",
       "    </tr>\n",
       "    <tr>\n",
       "      <td>33361</td>\n",
       "      <td>1478081</td>\n",
       "      <td>Equipment Violation</td>\n",
       "      <td>520</td>\n",
       "      <td>Hispanic/Latino/a</td>\n",
       "      <td>Female</td>\n",
       "      <td>40.0</td>\n",
       "      <td>2017-04-16</td>\n",
       "      <td>23:55:00</td>\n",
       "      <td>N</td>\n",
       "      <td>N</td>\n",
       "      <td>NaN</td>\n",
       "      <td>N</td>\n",
       "      <td>N</td>\n",
       "    </tr>\n",
       "  </tbody>\n",
       "</table>\n",
       "<p>36759 rows × 13 columns</p>\n",
       "</div>"
      ],
      "text/plain": [
       "       stop_id           stop_cause service_area            subject_race  \\\n",
       "99489  1440927  Equipment Violation          510       Hispanic/Latino/a   \n",
       "99490  1440949  Equipment Violation          510                   White   \n",
       "99491  1440929  Equipment Violation          520  Black/African American   \n",
       "99492  1440951     Moving Violation          510  Black/African American   \n",
       "99493  1440952  Equipment Violation          510       Hispanic/Latino/a   \n",
       "...        ...                  ...          ...                     ...   \n",
       "33357  1478076  Equipment Violation          110                   White   \n",
       "33358  1478077  Equipment Violation          620  Black/African American   \n",
       "33359  1478080  Equipment Violation          440                   White   \n",
       "33360  1478100  Equipment Violation          440       Hispanic/Latino/a   \n",
       "33361  1478081  Equipment Violation          520       Hispanic/Latino/a   \n",
       "\n",
       "      subject_sex  subject_age   date_stop time_stop arrested searched  \\\n",
       "99489        Male         25.0  2016-12-16      0:20        N        N   \n",
       "99490      Female         32.0  2016-12-16      0:20        N        Y   \n",
       "99491        Male         36.0  2016-12-16      0:30        N        N   \n",
       "99492        Male         56.0  2016-12-16      0:35        N        N   \n",
       "99493        Male         53.0  2016-12-16      0:45        N        N   \n",
       "...           ...          ...         ...       ...      ...      ...   \n",
       "33357        Male         23.0  2017-04-16  23:20:00        N        N   \n",
       "33358      Female         55.0  2017-04-16  23:30:00        N        N   \n",
       "33359        Male         24.0  2017-04-16  23:46:00        N        N   \n",
       "33360        Male         47.0  2017-04-16  23:53:00        Y        Y   \n",
       "33361      Female         40.0  2017-04-16  23:55:00        N        N   \n",
       "\n",
       "      obtained_consent contraband_found property_seized  \n",
       "99489              NaN                N               N  \n",
       "99490              NaN                N               N  \n",
       "99491              NaN                N               N  \n",
       "99492              NaN                N               N  \n",
       "99493              NaN                N               N  \n",
       "...                ...              ...             ...  \n",
       "33357              NaN                N               N  \n",
       "33358              NaN                N               N  \n",
       "33359              NaN                N               N  \n",
       "33360                N                N               N  \n",
       "33361              NaN                N               N  \n",
       "\n",
       "[36759 rows x 13 columns]"
      ]
     },
     "execution_count": 71,
     "metadata": {},
     "output_type": "execute_result"
    }
   ],
   "source": [
    "t"
   ]
  },
  {
   "cell_type": "code",
   "execution_count": 46,
   "metadata": {},
   "outputs": [],
   "source": [
    "df_2016 = pd.read_csv(TOP_PATH + '/data/cleaned/2016_cleaned.csv')"
   ]
  },
  {
   "cell_type": "code",
   "execution_count": 47,
   "metadata": {},
   "outputs": [],
   "source": [
    "comb = pd.concat([df_2016, df_2017])"
   ]
  },
  {
   "cell_type": "code",
   "execution_count": 50,
   "metadata": {},
   "outputs": [],
   "source": [
    "t = comb[[pd.to_datetime(x) >= pd.to_datetime('12-16-2016') and pd.to_datetime(x) <= pd.to_datetime('04-16-2017') for x in comb['date_stop']]]"
   ]
  },
  {
   "cell_type": "code",
   "execution_count": 51,
   "metadata": {},
   "outputs": [
    {
     "data": {
      "text/plain": [
       "36759"
      ]
     },
     "execution_count": 51,
     "metadata": {},
     "output_type": "execute_result"
    }
   ],
   "source": [
    "len(t)"
   ]
  },
  {
   "cell_type": "code",
   "execution_count": 63,
   "metadata": {},
   "outputs": [
    {
     "data": {
      "text/plain": [
       "array(['2017-12-17', '2017-12-18', '2017-12-19', '2017-12-20',\n",
       "       '2017-12-21', '2017-12-22', '2017-12-25', '2017-12-26',\n",
       "       '2017-12-27', '2017-12-28', '2017-12-29', '2017-12-30',\n",
       "       '2017-12-31', '2018-01-01', '2018-01-02', '2018-01-03',\n",
       "       '2018-01-04', '2018-01-05', '2018-01-06', '2018-01-07',\n",
       "       '2018-01-08', '2018-01-09', '2018-01-10', '2018-01-11',\n",
       "       '2018-01-12', '2018-01-13', '2018-01-14', '2018-01-15',\n",
       "       '2018-01-16', '2018-01-17', '2018-01-18', '2018-01-19',\n",
       "       '2018-01-20', '2018-01-21', '2018-01-22', '2018-01-23',\n",
       "       '2018-01-24', '2018-01-25', '2018-01-26', '2018-01-27',\n",
       "       '2018-01-29', '2018-01-30', '2018-01-31', '2018-02-01',\n",
       "       '2018-02-02', '2018-02-03', '2018-02-04', '2018-02-05',\n",
       "       '2018-02-06', '2018-02-07', '2018-02-08', '2018-02-09',\n",
       "       '2018-02-10', '2018-02-11', '2018-02-12', '2018-02-13',\n",
       "       '2018-02-14', '2018-02-15', '2018-02-16', '2018-02-17',\n",
       "       '2018-02-18', '2018-02-19', '2018-02-20', '2018-02-21',\n",
       "       '2018-02-22', '2018-02-23', '2018-02-25', '2018-02-26',\n",
       "       '2018-02-27', '2018-02-28', '2018-03-01', '2018-03-02',\n",
       "       '2018-03-03', '2018-03-04', '2018-03-05', '2018-03-06',\n",
       "       '2018-03-07', '2018-03-08', '2018-03-09', '2018-03-10',\n",
       "       '2018-03-11', '2018-03-12', '2018-03-13', '2018-03-14',\n",
       "       '2018-03-15', '2018-03-16', '2018-03-17', '2018-03-18',\n",
       "       '2018-03-19', '2018-03-20', '2018-03-21', '2018-03-22',\n",
       "       '2018-03-23', '2018-03-24', '2018-03-25', '2018-03-26',\n",
       "       '2018-03-27', '2018-03-28', '2018-03-29', '2018-03-30',\n",
       "       '2018-03-31', '2018-04-01', '2018-04-02', '2018-04-03',\n",
       "       '2018-04-04', '2018-04-05', '2018-04-06', '2018-04-07',\n",
       "       '2018-04-08', '2018-04-09', '2018-04-10', '2018-04-11',\n",
       "       '2018-04-12', '2018-04-13', '2018-04-14', '2018-04-16'],\n",
       "      dtype=object)"
      ]
     },
     "execution_count": 63,
     "metadata": {},
     "output_type": "execute_result"
    }
   ],
   "source": [
    "temp['date_stop'].unique()"
   ]
  },
  {
   "cell_type": "code",
   "execution_count": 64,
   "metadata": {},
   "outputs": [
    {
     "data": {
      "text/plain": [
       "array(['2016-12-16', '2016-12-17', '2016-12-18', '2016-12-19',\n",
       "       '2016-12-20', '2016-12-21', '2016-12-22', '2016-12-23',\n",
       "       '2016-12-24', '2016-12-25', '2016-12-26', '2016-12-27',\n",
       "       '2016-12-28', '2016-12-29', '2016-12-30', '2016-12-31',\n",
       "       '2017-01-01', '2017-01-02', '2017-01-03', '2017-01-04',\n",
       "       '2017-01-05', '2017-01-06', '2017-01-07', '2017-01-08',\n",
       "       '2017-01-09', '2017-01-10', '2017-01-11', '2017-01-12',\n",
       "       '2017-01-13', '2017-01-14', '2017-01-15', '2017-01-16',\n",
       "       '2017-01-17', '2017-01-18', '2017-01-19', '2017-01-20',\n",
       "       '2017-01-21', '2017-01-22', '2017-01-23', '2017-01-24',\n",
       "       '2017-01-25', '2017-01-26', '2017-01-27', '2017-01-28',\n",
       "       '2017-01-29', '2017-01-30', '2017-01-31', '2017-02-01',\n",
       "       '2017-02-02', '2017-02-03', '2017-02-04', '2017-02-05',\n",
       "       '2017-02-06', '2017-02-07', '2017-02-08', '2017-02-09',\n",
       "       '2017-02-10', '2017-02-11', '2017-02-12', '2017-02-13',\n",
       "       '2017-02-14', '2017-02-15', '2017-02-16', '2017-02-17',\n",
       "       '2017-02-18', '2017-02-19', '2017-02-20', '2017-02-21',\n",
       "       '2017-02-22', '2017-02-23', '2017-02-24', '2017-02-25',\n",
       "       '2017-02-26', '2017-02-27', '2017-02-28', '2017-03-01',\n",
       "       '2017-03-02', '2017-03-03', '2017-03-04', '2017-03-05',\n",
       "       '2017-03-06', '2017-03-07', '2017-03-08', '2017-03-09',\n",
       "       '2017-03-10', '2017-03-11', '2017-03-12', '2017-03-13',\n",
       "       '2017-03-14', '2017-03-15', '2017-03-16', '2017-03-17',\n",
       "       '2017-03-18', '2017-03-19', '2017-03-20', '2017-03-21',\n",
       "       '2017-03-22', '2017-03-23', '2017-03-24', '2017-03-25',\n",
       "       '2017-03-26', '2017-03-27', '2017-03-28', '2017-03-29',\n",
       "       '2017-03-30', '2017-03-31', '2017-04-01', '2017-04-02',\n",
       "       '2017-04-03', '2017-04-04', '2017-04-05', '2017-04-06',\n",
       "       '2017-04-07', '2017-04-08', '2017-04-09', '2017-04-10',\n",
       "       '2017-04-11', '2017-04-12', '2017-04-13', '2017-04-14',\n",
       "       '2017-04-15', '2017-04-16'], dtype=object)"
      ]
     },
     "execution_count": 64,
     "metadata": {},
     "output_type": "execute_result"
    }
   ],
   "source": [
    "t['date_stop'].unique()"
   ]
  },
  {
   "cell_type": "code",
   "execution_count": 65,
   "metadata": {},
   "outputs": [
    {
     "data": {
      "text/plain": [
       "36759"
      ]
     },
     "execution_count": 65,
     "metadata": {},
     "output_type": "execute_result"
    }
   ],
   "source": [
    "len(t)"
   ]
  },
  {
   "cell_type": "code",
   "execution_count": 67,
   "metadata": {},
   "outputs": [
    {
     "data": {
      "text/plain": [
       "36759"
      ]
     },
     "execution_count": 67,
     "metadata": {},
     "output_type": "execute_result"
    }
   ],
   "source": [
    "t.stop_id.nunique()"
   ]
  },
  {
   "cell_type": "code",
   "execution_count": 68,
   "metadata": {},
   "outputs": [
    {
     "data": {
      "text/plain": [
       "103362"
      ]
     },
     "execution_count": 68,
     "metadata": {},
     "output_type": "execute_result"
    }
   ],
   "source": [
    "len(df_2017)"
   ]
  },
  {
   "cell_type": "code",
   "execution_count": 72,
   "metadata": {},
   "outputs": [],
   "source": [
    "df_2018 = pd.read_csv(TOP_PATH + '/data/cleaned/2018-2019_cleaned.csv')"
   ]
  },
  {
   "cell_type": "code",
   "execution_count": 74,
   "metadata": {},
   "outputs": [
    {
     "data": {
      "text/plain": [
       "103051"
      ]
     },
     "execution_count": 74,
     "metadata": {},
     "output_type": "execute_result"
    }
   ],
   "source": [
    "len(df_2016)"
   ]
  },
  {
   "cell_type": "code",
   "execution_count": 101,
   "metadata": {},
   "outputs": [
    {
     "data": {
      "text/html": [
       "<div>\n",
       "<style scoped>\n",
       "    .dataframe tbody tr th:only-of-type {\n",
       "        vertical-align: middle;\n",
       "    }\n",
       "\n",
       "    .dataframe tbody tr th {\n",
       "        vertical-align: top;\n",
       "    }\n",
       "\n",
       "    .dataframe thead th {\n",
       "        text-align: right;\n",
       "    }\n",
       "</style>\n",
       "<table border=\"1\" class=\"dataframe\">\n",
       "  <thead>\n",
       "    <tr style=\"text-align: right;\">\n",
       "      <th></th>\n",
       "      <th>stop_id</th>\n",
       "      <th>stop_cause</th>\n",
       "      <th>service_area</th>\n",
       "      <th>subject_race</th>\n",
       "      <th>subject_sex</th>\n",
       "      <th>subject_age</th>\n",
       "      <th>date_stop</th>\n",
       "      <th>time_stop</th>\n",
       "      <th>arrested</th>\n",
       "      <th>searched</th>\n",
       "      <th>obtained_consent</th>\n",
       "      <th>contraband_found</th>\n",
       "      <th>property_seized</th>\n",
       "      <th>month</th>\n",
       "      <th>year</th>\n",
       "    </tr>\n",
       "  </thead>\n",
       "  <tbody>\n",
       "  </tbody>\n",
       "</table>\n",
       "</div>"
      ],
      "text/plain": [
       "Empty DataFrame\n",
       "Columns: [stop_id, stop_cause, service_area, subject_race, subject_sex, subject_age, date_stop, time_stop, arrested, searched, obtained_consent, contraband_found, property_seized, month, year]\n",
       "Index: []"
      ]
     },
     "execution_count": 101,
     "metadata": {},
     "output_type": "execute_result"
    }
   ],
   "source": [
    "df_2017[df_2017['stop_id'] == 69583]"
   ]
  },
  {
   "cell_type": "code",
   "execution_count": null,
   "metadata": {},
   "outputs": [],
   "source": []
  },
  {
   "cell_type": "code",
   "execution_count": null,
   "metadata": {},
   "outputs": [],
   "source": []
  }
 ],
 "metadata": {
  "kernelspec": {
   "display_name": "Python 3",
   "language": "python",
   "name": "python3"
  },
  "language_info": {
   "codemirror_mode": {
    "name": "ipython",
    "version": 3
   },
   "file_extension": ".py",
   "mimetype": "text/x-python",
   "name": "python",
   "nbconvert_exporter": "python",
   "pygments_lexer": "ipython3",
   "version": "3.7.4"
  }
 },
 "nbformat": 4,
 "nbformat_minor": 2
}
