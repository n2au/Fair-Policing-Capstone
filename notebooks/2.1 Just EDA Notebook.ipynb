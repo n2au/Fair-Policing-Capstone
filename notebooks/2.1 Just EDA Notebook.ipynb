{
 "cells": [
  {
   "cell_type": "code",
   "execution_count": 106,
   "metadata": {},
   "outputs": [],
   "source": [
    "import os\n",
    "import sys\n",
    "import json\n",
    "import pandas as pd\n",
    "import numpy as np"
   ]
  },
  {
   "cell_type": "code",
   "execution_count": 2,
   "metadata": {},
   "outputs": [],
   "source": [
    "%load_ext autoreload\n",
    "%autoreload 2"
   ]
  },
  {
   "cell_type": "code",
   "execution_count": 3,
   "metadata": {},
   "outputs": [],
   "source": [
    "TOP_PATH = os.environ['PWD']"
   ]
  },
  {
   "cell_type": "code",
   "execution_count": 4,
   "metadata": {},
   "outputs": [],
   "source": [
    "sys.path.append(TOP_PATH + '/config')\n",
    "sys.path.append(TOP_PATH + '/src')"
   ]
  },
  {
   "cell_type": "code",
   "execution_count": 107,
   "metadata": {},
   "outputs": [],
   "source": [
    "from trends import *\n",
    "import etl\n",
    "from regression import get_data_from_range\n",
    "import eda_viz"
   ]
  },
  {
   "cell_type": "code",
   "execution_count": 7,
   "metadata": {},
   "outputs": [],
   "source": [
    "df_2017_raw = pd.read_csv(TOP_PATH + '/data/raw/STOPS_2017.csv')"
   ]
  },
  {
   "cell_type": "code",
   "execution_count": 15,
   "metadata": {},
   "outputs": [
    {
     "data": {
      "text/html": [
       "<div>\n",
       "<style scoped>\n",
       "    .dataframe tbody tr th:only-of-type {\n",
       "        vertical-align: middle;\n",
       "    }\n",
       "\n",
       "    .dataframe tbody tr th {\n",
       "        vertical-align: top;\n",
       "    }\n",
       "\n",
       "    .dataframe thead th {\n",
       "        text-align: right;\n",
       "    }\n",
       "</style>\n",
       "<table border=\"1\" class=\"dataframe\">\n",
       "  <thead>\n",
       "    <tr style=\"text-align: right;\">\n",
       "      <th></th>\n",
       "      <th>stop_id</th>\n",
       "      <th>stop_cause</th>\n",
       "      <th>service_area</th>\n",
       "      <th>subject_race</th>\n",
       "      <th>subject_sex</th>\n",
       "      <th>subject_age</th>\n",
       "      <th>date_stop</th>\n",
       "      <th>time_stop</th>\n",
       "      <th>arrested</th>\n",
       "      <th>searched</th>\n",
       "      <th>obtained_consent</th>\n",
       "      <th>contraband_found</th>\n",
       "      <th>property_seized</th>\n",
       "    </tr>\n",
       "  </thead>\n",
       "  <tbody>\n",
       "    <tr>\n",
       "      <td>0</td>\n",
       "      <td>1444799</td>\n",
       "      <td>Moving Violation</td>\n",
       "      <td>120</td>\n",
       "      <td>I</td>\n",
       "      <td>M</td>\n",
       "      <td>37</td>\n",
       "      <td>2017-01-01</td>\n",
       "      <td>00:03:00</td>\n",
       "      <td>N</td>\n",
       "      <td>N</td>\n",
       "      <td>NaN</td>\n",
       "      <td>NaN</td>\n",
       "      <td>NaN</td>\n",
       "    </tr>\n",
       "    <tr>\n",
       "      <td>1</td>\n",
       "      <td>1444821</td>\n",
       "      <td>Equipment Violation</td>\n",
       "      <td>520</td>\n",
       "      <td>W</td>\n",
       "      <td>M</td>\n",
       "      <td>22</td>\n",
       "      <td>2017-01-01</td>\n",
       "      <td>00:25:00</td>\n",
       "      <td>N</td>\n",
       "      <td>N</td>\n",
       "      <td>NaN</td>\n",
       "      <td>NaN</td>\n",
       "      <td>NaN</td>\n",
       "    </tr>\n",
       "    <tr>\n",
       "      <td>2</td>\n",
       "      <td>1447102</td>\n",
       "      <td>Moving Violation</td>\n",
       "      <td>520</td>\n",
       "      <td>W</td>\n",
       "      <td>M</td>\n",
       "      <td>29</td>\n",
       "      <td>2017-01-01</td>\n",
       "      <td>01:45:00</td>\n",
       "      <td>N</td>\n",
       "      <td>N</td>\n",
       "      <td>NaN</td>\n",
       "      <td>NaN</td>\n",
       "      <td>NaN</td>\n",
       "    </tr>\n",
       "    <tr>\n",
       "      <td>3</td>\n",
       "      <td>1444801</td>\n",
       "      <td>Equipment Violation</td>\n",
       "      <td>720</td>\n",
       "      <td>H</td>\n",
       "      <td>F</td>\n",
       "      <td>61</td>\n",
       "      <td>2017-01-01</td>\n",
       "      <td>03:10:00</td>\n",
       "      <td>N</td>\n",
       "      <td>N</td>\n",
       "      <td>NaN</td>\n",
       "      <td>NaN</td>\n",
       "      <td>NaN</td>\n",
       "    </tr>\n",
       "    <tr>\n",
       "      <td>4</td>\n",
       "      <td>1444802</td>\n",
       "      <td>Equipment Violation</td>\n",
       "      <td>120</td>\n",
       "      <td>H</td>\n",
       "      <td>M</td>\n",
       "      <td>24</td>\n",
       "      <td>2017-01-01</td>\n",
       "      <td>03:30:00</td>\n",
       "      <td>N</td>\n",
       "      <td>N</td>\n",
       "      <td>NaN</td>\n",
       "      <td>NaN</td>\n",
       "      <td>NaN</td>\n",
       "    </tr>\n",
       "  </tbody>\n",
       "</table>\n",
       "</div>"
      ],
      "text/plain": [
       "   stop_id           stop_cause service_area subject_race subject_sex  \\\n",
       "0  1444799     Moving Violation          120            I           M   \n",
       "1  1444821  Equipment Violation          520            W           M   \n",
       "2  1447102     Moving Violation          520            W           M   \n",
       "3  1444801  Equipment Violation          720            H           F   \n",
       "4  1444802  Equipment Violation          120            H           M   \n",
       "\n",
       "  subject_age   date_stop time_stop arrested searched obtained_consent  \\\n",
       "0          37  2017-01-01  00:03:00        N        N              NaN   \n",
       "1          22  2017-01-01  00:25:00        N        N              NaN   \n",
       "2          29  2017-01-01  01:45:00        N        N              NaN   \n",
       "3          61  2017-01-01  03:10:00        N        N              NaN   \n",
       "4          24  2017-01-01  03:30:00        N        N              NaN   \n",
       "\n",
       "  contraband_found property_seized  \n",
       "0              NaN             NaN  \n",
       "1              NaN             NaN  \n",
       "2              NaN             NaN  \n",
       "3              NaN             NaN  \n",
       "4              NaN             NaN  "
      ]
     },
     "execution_count": 15,
     "metadata": {},
     "output_type": "execute_result"
    }
   ],
   "source": [
    "df_2017_raw.head()"
   ]
  },
  {
   "cell_type": "code",
   "execution_count": 16,
   "metadata": {},
   "outputs": [],
   "source": [
    "df_2017_cleaned = pd.read_csv(TOP_PATH + '/data/cleaned/2017_cleaned.csv')"
   ]
  },
  {
   "cell_type": "markdown",
   "metadata": {},
   "source": [
    "# Make the dataframe that we'd be using to look at DACA"
   ]
  },
  {
   "cell_type": "code",
   "execution_count": 25,
   "metadata": {},
   "outputs": [],
   "source": [
    "df_daca_window = get_data_from_range(('07-05-2017', '11-05-2017'))"
   ]
  },
  {
   "cell_type": "code",
   "execution_count": 26,
   "metadata": {},
   "outputs": [
    {
     "data": {
      "text/html": [
       "<div>\n",
       "<style scoped>\n",
       "    .dataframe tbody tr th:only-of-type {\n",
       "        vertical-align: middle;\n",
       "    }\n",
       "\n",
       "    .dataframe tbody tr th {\n",
       "        vertical-align: top;\n",
       "    }\n",
       "\n",
       "    .dataframe thead th {\n",
       "        text-align: right;\n",
       "    }\n",
       "</style>\n",
       "<table border=\"1\" class=\"dataframe\">\n",
       "  <thead>\n",
       "    <tr style=\"text-align: right;\">\n",
       "      <th></th>\n",
       "      <th>stop_id</th>\n",
       "      <th>stop_cause</th>\n",
       "      <th>service_area</th>\n",
       "      <th>subject_race</th>\n",
       "      <th>subject_sex</th>\n",
       "      <th>subject_age</th>\n",
       "      <th>date_stop</th>\n",
       "      <th>time_stop</th>\n",
       "      <th>arrested</th>\n",
       "      <th>searched</th>\n",
       "      <th>obtained_consent</th>\n",
       "      <th>contraband_found</th>\n",
       "      <th>property_seized</th>\n",
       "    </tr>\n",
       "  </thead>\n",
       "  <tbody>\n",
       "    <tr>\n",
       "      <td>56076</td>\n",
       "      <td>1500296</td>\n",
       "      <td>Equipment Violation</td>\n",
       "      <td>720</td>\n",
       "      <td>Black/African American</td>\n",
       "      <td>Male</td>\n",
       "      <td>30.0</td>\n",
       "      <td>2017-07-05</td>\n",
       "      <td>00:10:00</td>\n",
       "      <td>N</td>\n",
       "      <td>N</td>\n",
       "      <td>NaN</td>\n",
       "      <td>N</td>\n",
       "      <td>N</td>\n",
       "    </tr>\n",
       "    <tr>\n",
       "      <td>56077</td>\n",
       "      <td>1500297</td>\n",
       "      <td>Moving Violation</td>\n",
       "      <td>240</td>\n",
       "      <td>Other</td>\n",
       "      <td>Male</td>\n",
       "      <td>33.0</td>\n",
       "      <td>2017-07-05</td>\n",
       "      <td>00:19:00</td>\n",
       "      <td>N</td>\n",
       "      <td>N</td>\n",
       "      <td>NaN</td>\n",
       "      <td>N</td>\n",
       "      <td>N</td>\n",
       "    </tr>\n",
       "    <tr>\n",
       "      <td>56078</td>\n",
       "      <td>1500346</td>\n",
       "      <td>Equipment Violation</td>\n",
       "      <td>430</td>\n",
       "      <td>White</td>\n",
       "      <td>Male</td>\n",
       "      <td>31.0</td>\n",
       "      <td>2017-07-05</td>\n",
       "      <td>00:40:00</td>\n",
       "      <td>N</td>\n",
       "      <td>N</td>\n",
       "      <td>NaN</td>\n",
       "      <td>N</td>\n",
       "      <td>N</td>\n",
       "    </tr>\n",
       "    <tr>\n",
       "      <td>56079</td>\n",
       "      <td>1500347</td>\n",
       "      <td>Equipment Violation</td>\n",
       "      <td>820</td>\n",
       "      <td>Black/African American</td>\n",
       "      <td>Male</td>\n",
       "      <td>47.0</td>\n",
       "      <td>2017-07-05</td>\n",
       "      <td>00:49:00</td>\n",
       "      <td>Y</td>\n",
       "      <td>N</td>\n",
       "      <td>NaN</td>\n",
       "      <td>N</td>\n",
       "      <td>N</td>\n",
       "    </tr>\n",
       "    <tr>\n",
       "      <td>56080</td>\n",
       "      <td>1500299</td>\n",
       "      <td>Moving Violation</td>\n",
       "      <td>930</td>\n",
       "      <td>White</td>\n",
       "      <td>Female</td>\n",
       "      <td>40.0</td>\n",
       "      <td>2017-07-05</td>\n",
       "      <td>00:57:00</td>\n",
       "      <td>N</td>\n",
       "      <td>N</td>\n",
       "      <td>NaN</td>\n",
       "      <td>N</td>\n",
       "      <td>N</td>\n",
       "    </tr>\n",
       "  </tbody>\n",
       "</table>\n",
       "</div>"
      ],
      "text/plain": [
       "       stop_id           stop_cause service_area            subject_race  \\\n",
       "56076  1500296  Equipment Violation          720  Black/African American   \n",
       "56077  1500297     Moving Violation          240                   Other   \n",
       "56078  1500346  Equipment Violation          430                   White   \n",
       "56079  1500347  Equipment Violation          820  Black/African American   \n",
       "56080  1500299     Moving Violation          930                   White   \n",
       "\n",
       "      subject_sex  subject_age   date_stop time_stop arrested searched  \\\n",
       "56076        Male         30.0  2017-07-05  00:10:00        N        N   \n",
       "56077        Male         33.0  2017-07-05  00:19:00        N        N   \n",
       "56078        Male         31.0  2017-07-05  00:40:00        N        N   \n",
       "56079        Male         47.0  2017-07-05  00:49:00        Y        N   \n",
       "56080      Female         40.0  2017-07-05  00:57:00        N        N   \n",
       "\n",
       "      obtained_consent contraband_found property_seized  \n",
       "56076              NaN                N               N  \n",
       "56077              NaN                N               N  \n",
       "56078              NaN                N               N  \n",
       "56079              NaN                N               N  \n",
       "56080              NaN                N               N  "
      ]
     },
     "execution_count": 26,
     "metadata": {},
     "output_type": "execute_result"
    }
   ],
   "source": [
    "df_daca_window.head()"
   ]
  },
  {
   "cell_type": "code",
   "execution_count": 57,
   "metadata": {},
   "outputs": [],
   "source": [
    "df_daca_used_columns = df_daca_window[['stop_id', 'service_area', 'subject_race', 'date_stop']]"
   ]
  },
  {
   "cell_type": "code",
   "execution_count": 58,
   "metadata": {
    "scrolled": true
   },
   "outputs": [
    {
     "name": "stderr",
     "output_type": "stream",
     "text": [
      "/opt/anaconda3/lib/python3.7/site-packages/ipykernel_launcher.py:1: SettingWithCopyWarning: \n",
      "A value is trying to be set on a copy of a slice from a DataFrame.\n",
      "Try using .loc[row_indexer,col_indexer] = value instead\n",
      "\n",
      "See the caveats in the documentation: http://pandas.pydata.org/pandas-docs/stable/user_guide/indexing.html#returning-a-view-versus-a-copy\n",
      "  \"\"\"Entry point for launching an IPython kernel.\n"
     ]
    }
   ],
   "source": [
    "df_daca_used_columns['month'] = df_daca_used_columns['date_stop'].str.slice(5,7)"
   ]
  },
  {
   "cell_type": "code",
   "execution_count": 59,
   "metadata": {},
   "outputs": [],
   "source": [
    "month_dictionary = {\n",
    "    1 : 'Jan',\n",
    "    2 : 'Feb',\n",
    "    3 : 'Mar',\n",
    "    4 : 'Apr',\n",
    "    5 : 'May',\n",
    "    6 : 'Jun',\n",
    "    7 : 'Jul',\n",
    "    8 : 'Aug',\n",
    "    9 : 'Sep',\n",
    "    10 : 'Oct',\n",
    "    11 : 'Nov',\n",
    "    12 : 'Dec'\n",
    "}"
   ]
  },
  {
   "cell_type": "code",
   "execution_count": 60,
   "metadata": {},
   "outputs": [],
   "source": [
    "df_daca_used_columns = df_daca_used_columns.astype({'month' : int})"
   ]
  },
  {
   "cell_type": "code",
   "execution_count": 61,
   "metadata": {},
   "outputs": [],
   "source": [
    "month_distribution_df = (df_daca_used_columns[['month', 'stop_id']].groupby('month').count() / len(df_daca_used_columns)).rename({'stop_id' : 'stop_percentage'}, axis = 1)"
   ]
  },
  {
   "cell_type": "code",
   "execution_count": 62,
   "metadata": {},
   "outputs": [],
   "source": [
    "month_distribution_df = month_distribution_df.sort_values('month')"
   ]
  },
  {
   "cell_type": "code",
   "execution_count": 64,
   "metadata": {},
   "outputs": [],
   "source": [
    "month_distribution_df.index = month_distribution_df.index.map(month_dictionary)"
   ]
  },
  {
   "cell_type": "code",
   "execution_count": 71,
   "metadata": {},
   "outputs": [
    {
     "data": {
      "image/png": "[encoded data removed]",
      "text/plain": [
       "<Figure size 432x288 with 1 Axes>"
      ]
     },
     "metadata": {
      "needs_background": "light"
     },
     "output_type": "display_data"
    }
   ],
   "source": [
    "ax = month_distribution_df.plot(kind = 'bar')\n",
    "ax.set(title = 'Proportion of Stops in Window by Month',\n",
    "           xlabel = 'Month')\n",
    "fig = ax.figure"
   ]
  },
  {
   "cell_type": "code",
   "execution_count": 99,
   "metadata": {},
   "outputs": [],
   "source": [
    "fig?"
   ]
  },
  {
   "cell_type": "code",
   "execution_count": 94,
   "metadata": {},
   "outputs": [],
   "source": [
    "temp2 = df_daca_used_columns.pivot_table(values = 'stop_id', index = 'month', columns = 'subject_race', aggfunc = 'count')"
   ]
  },
  {
   "cell_type": "code",
   "execution_count": 101,
   "metadata": {},
   "outputs": [],
   "source": [
    "temp2.index = temp2.index.map(month_dictionary)"
   ]
  },
  {
   "cell_type": "code",
   "execution_count": 102,
   "metadata": {},
   "outputs": [
    {
     "data": {
      "image/png": "[encoded data removed]",
      "text/plain": [
       "<Figure size 864x486 with 1 Axes>"
      ]
     },
     "metadata": {
      "needs_background": "light"
     },
     "output_type": "display_data"
    }
   ],
   "source": [
    "ax2 = (temp2.plot.bar(stacked = True, figsize = [12, 6.75]))"
   ]
  },
  {
   "cell_type": "code",
   "execution_count": 103,
   "metadata": {},
   "outputs": [],
   "source": [
    "fig = ax2.figure"
   ]
  },
  {
   "cell_type": "code",
   "execution_count": 105,
   "metadata": {},
   "outputs": [
    {
     "ename": "TypeError",
     "evalue": "savefig() missing 1 required positional argument: 'fname'",
     "output_type": "error",
     "traceback": [
      "\u001b[0;31m---------------------------------------------------------------------------\u001b[0m",
      "\u001b[0;31mTypeError\u001b[0m                                 Traceback (most recent call last)",
      "\u001b[0;32m<ipython-input-105-0bca5d158d1c>\u001b[0m in \u001b[0;36m<module>\u001b[0;34m\u001b[0m\n\u001b[0;32m----> 1\u001b[0;31m \u001b[0mfig\u001b[0m\u001b[0;34m.\u001b[0m\u001b[0msavefig\u001b[0m\u001b[0;34m(\u001b[0m\u001b[0;34m)\u001b[0m\u001b[0;34m\u001b[0m\u001b[0;34m\u001b[0m\u001b[0m\n\u001b[0m",
      "\u001b[0;31mTypeError\u001b[0m: savefig() missing 1 required positional argument: 'fname'"
     ]
    }
   ],
   "source": [
    "fig.savefig()"
   ]
  },
  {
   "cell_type": "code",
   "execution_count": null,
   "metadata": {},
   "outputs": [],
   "source": [
    "eda_viz.month_race_count_viz(('07-05-2017', '11-05-2017'), 'DACA', save_fig = True)"
   ]
  },
  {
   "cell_type": "code",
   "execution_count": null,
   "metadata": {},
   "outputs": [],
   "source": []
  }
 ],
 "metadata": {
  "kernelspec": {
   "display_name": "Python 3",
   "language": "python",
   "name": "python3"
  },
  "language_info": {
   "codemirror_mode": {
    "name": "ipython",
    "version": 3
   },
   "file_extension": ".py",
   "mimetype": "text/x-python",
   "name": "python",
   "nbconvert_exporter": "python",
   "pygments_lexer": "ipython3",
   "version": "3.7.4"
  }
 },
 "nbformat": 4,
 "nbformat_minor": 2
}
